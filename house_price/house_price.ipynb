{
  "nbformat": 4,
  "nbformat_minor": 0,
  "metadata": {
    "colab": {
      "provenance": []
    },
    "kernelspec": {
      "name": "python3",
      "display_name": "Python 3"
    },
    "language_info": {
      "name": "python"
    }
  },
  "cells": [
    {
      "cell_type": "code",
      "execution_count": 23,
      "metadata": {
        "id": "KEyQDpAh3cCm"
      },
      "outputs": [],
      "source": [
        "import pandas as pd\n",
        "import numpy as np\n",
        "import matplotlib.pyplot as plt\n",
        "import math"
      ]
    },
    {
      "cell_type": "code",
      "source": [
        "#reading the excel file (dataset)\n",
        "df=pd.read_excel('data set.xlsx')"
      ],
      "metadata": {
        "id": "8h-T-dR04BQL"
      },
      "execution_count": 2,
      "outputs": []
    },
    {
      "cell_type": "code",
      "source": [
        "df.head()"
      ],
      "metadata": {
        "colab": {
          "base_uri": "https://localhost:8080/",
          "height": 267
        },
        "id": "Wgr4tHBh4UwN",
        "outputId": "d0c5ed9e-ce4d-4ec2-83cd-3b1480d0e6fe"
      },
      "execution_count": 3,
      "outputs": [
        {
          "output_type": "execute_result",
          "data": {
            "text/plain": [
              "   Transaction date  House Age  Distance from nearest Metro station (km)  \\\n",
              "0       2012.916667       32.0                                  84.87882   \n",
              "1       2012.916667       19.5                                 306.59470   \n",
              "2       2013.583333       13.3                                 561.98450   \n",
              "3       2013.500000       13.3                                 561.98450   \n",
              "4       2012.833333        5.0                                 390.56840   \n",
              "\n",
              "   Number of convenience stores  latitude  longitude  Number of bedrooms  \\\n",
              "0                            10  24.98298  121.54024                   1   \n",
              "1                             9  24.98034  121.53951                   2   \n",
              "2                             5  24.98746  121.54391                   3   \n",
              "3                             5  24.98746  121.54391                   2   \n",
              "4                             5  24.97937  121.54245                   1   \n",
              "\n",
              "   House size (sqft)  House price of unit area  \n",
              "0                575                      37.9  \n",
              "1               1240                      42.2  \n",
              "2               1060                      47.3  \n",
              "3                875                      54.8  \n",
              "4                491                      43.1  "
            ],
            "text/html": [
              "\n",
              "  <div id=\"df-d53e3ab3-aa53-46dd-a111-2d3abc93351c\">\n",
              "    <div class=\"colab-df-container\">\n",
              "      <div>\n",
              "<style scoped>\n",
              "    .dataframe tbody tr th:only-of-type {\n",
              "        vertical-align: middle;\n",
              "    }\n",
              "\n",
              "    .dataframe tbody tr th {\n",
              "        vertical-align: top;\n",
              "    }\n",
              "\n",
              "    .dataframe thead th {\n",
              "        text-align: right;\n",
              "    }\n",
              "</style>\n",
              "<table border=\"1\" class=\"dataframe\">\n",
              "  <thead>\n",
              "    <tr style=\"text-align: right;\">\n",
              "      <th></th>\n",
              "      <th>Transaction date</th>\n",
              "      <th>House Age</th>\n",
              "      <th>Distance from nearest Metro station (km)</th>\n",
              "      <th>Number of convenience stores</th>\n",
              "      <th>latitude</th>\n",
              "      <th>longitude</th>\n",
              "      <th>Number of bedrooms</th>\n",
              "      <th>House size (sqft)</th>\n",
              "      <th>House price of unit area</th>\n",
              "    </tr>\n",
              "  </thead>\n",
              "  <tbody>\n",
              "    <tr>\n",
              "      <th>0</th>\n",
              "      <td>2012.916667</td>\n",
              "      <td>32.0</td>\n",
              "      <td>84.87882</td>\n",
              "      <td>10</td>\n",
              "      <td>24.98298</td>\n",
              "      <td>121.54024</td>\n",
              "      <td>1</td>\n",
              "      <td>575</td>\n",
              "      <td>37.9</td>\n",
              "    </tr>\n",
              "    <tr>\n",
              "      <th>1</th>\n",
              "      <td>2012.916667</td>\n",
              "      <td>19.5</td>\n",
              "      <td>306.59470</td>\n",
              "      <td>9</td>\n",
              "      <td>24.98034</td>\n",
              "      <td>121.53951</td>\n",
              "      <td>2</td>\n",
              "      <td>1240</td>\n",
              "      <td>42.2</td>\n",
              "    </tr>\n",
              "    <tr>\n",
              "      <th>2</th>\n",
              "      <td>2013.583333</td>\n",
              "      <td>13.3</td>\n",
              "      <td>561.98450</td>\n",
              "      <td>5</td>\n",
              "      <td>24.98746</td>\n",
              "      <td>121.54391</td>\n",
              "      <td>3</td>\n",
              "      <td>1060</td>\n",
              "      <td>47.3</td>\n",
              "    </tr>\n",
              "    <tr>\n",
              "      <th>3</th>\n",
              "      <td>2013.500000</td>\n",
              "      <td>13.3</td>\n",
              "      <td>561.98450</td>\n",
              "      <td>5</td>\n",
              "      <td>24.98746</td>\n",
              "      <td>121.54391</td>\n",
              "      <td>2</td>\n",
              "      <td>875</td>\n",
              "      <td>54.8</td>\n",
              "    </tr>\n",
              "    <tr>\n",
              "      <th>4</th>\n",
              "      <td>2012.833333</td>\n",
              "      <td>5.0</td>\n",
              "      <td>390.56840</td>\n",
              "      <td>5</td>\n",
              "      <td>24.97937</td>\n",
              "      <td>121.54245</td>\n",
              "      <td>1</td>\n",
              "      <td>491</td>\n",
              "      <td>43.1</td>\n",
              "    </tr>\n",
              "  </tbody>\n",
              "</table>\n",
              "</div>\n",
              "      <button class=\"colab-df-convert\" onclick=\"convertToInteractive('df-d53e3ab3-aa53-46dd-a111-2d3abc93351c')\"\n",
              "              title=\"Convert this dataframe to an interactive table.\"\n",
              "              style=\"display:none;\">\n",
              "        \n",
              "  <svg xmlns=\"http://www.w3.org/2000/svg\" height=\"24px\"viewBox=\"0 0 24 24\"\n",
              "       width=\"24px\">\n",
              "    <path d=\"M0 0h24v24H0V0z\" fill=\"none\"/>\n",
              "    <path d=\"M18.56 5.44l.94 2.06.94-2.06 2.06-.94-2.06-.94-.94-2.06-.94 2.06-2.06.94zm-11 1L8.5 8.5l.94-2.06 2.06-.94-2.06-.94L8.5 2.5l-.94 2.06-2.06.94zm10 10l.94 2.06.94-2.06 2.06-.94-2.06-.94-.94-2.06-.94 2.06-2.06.94z\"/><path d=\"M17.41 7.96l-1.37-1.37c-.4-.4-.92-.59-1.43-.59-.52 0-1.04.2-1.43.59L10.3 9.45l-7.72 7.72c-.78.78-.78 2.05 0 2.83L4 21.41c.39.39.9.59 1.41.59.51 0 1.02-.2 1.41-.59l7.78-7.78 2.81-2.81c.8-.78.8-2.07 0-2.86zM5.41 20L4 18.59l7.72-7.72 1.47 1.35L5.41 20z\"/>\n",
              "  </svg>\n",
              "      </button>\n",
              "      \n",
              "  <style>\n",
              "    .colab-df-container {\n",
              "      display:flex;\n",
              "      flex-wrap:wrap;\n",
              "      gap: 12px;\n",
              "    }\n",
              "\n",
              "    .colab-df-convert {\n",
              "      background-color: #E8F0FE;\n",
              "      border: none;\n",
              "      border-radius: 50%;\n",
              "      cursor: pointer;\n",
              "      display: none;\n",
              "      fill: #1967D2;\n",
              "      height: 32px;\n",
              "      padding: 0 0 0 0;\n",
              "      width: 32px;\n",
              "    }\n",
              "\n",
              "    .colab-df-convert:hover {\n",
              "      background-color: #E2EBFA;\n",
              "      box-shadow: 0px 1px 2px rgba(60, 64, 67, 0.3), 0px 1px 3px 1px rgba(60, 64, 67, 0.15);\n",
              "      fill: #174EA6;\n",
              "    }\n",
              "\n",
              "    [theme=dark] .colab-df-convert {\n",
              "      background-color: #3B4455;\n",
              "      fill: #D2E3FC;\n",
              "    }\n",
              "\n",
              "    [theme=dark] .colab-df-convert:hover {\n",
              "      background-color: #434B5C;\n",
              "      box-shadow: 0px 1px 3px 1px rgba(0, 0, 0, 0.15);\n",
              "      filter: drop-shadow(0px 1px 2px rgba(0, 0, 0, 0.3));\n",
              "      fill: #FFFFFF;\n",
              "    }\n",
              "  </style>\n",
              "\n",
              "      <script>\n",
              "        const buttonEl =\n",
              "          document.querySelector('#df-d53e3ab3-aa53-46dd-a111-2d3abc93351c button.colab-df-convert');\n",
              "        buttonEl.style.display =\n",
              "          google.colab.kernel.accessAllowed ? 'block' : 'none';\n",
              "\n",
              "        async function convertToInteractive(key) {\n",
              "          const element = document.querySelector('#df-d53e3ab3-aa53-46dd-a111-2d3abc93351c');\n",
              "          const dataTable =\n",
              "            await google.colab.kernel.invokeFunction('convertToInteractive',\n",
              "                                                     [key], {});\n",
              "          if (!dataTable) return;\n",
              "\n",
              "          const docLinkHtml = 'Like what you see? Visit the ' +\n",
              "            '<a target=\"_blank\" href=https://colab.research.google.com/notebooks/data_table.ipynb>data table notebook</a>'\n",
              "            + ' to learn more about interactive tables.';\n",
              "          element.innerHTML = '';\n",
              "          dataTable['output_type'] = 'display_data';\n",
              "          await google.colab.output.renderOutput(dataTable, element);\n",
              "          const docLink = document.createElement('div');\n",
              "          docLink.innerHTML = docLinkHtml;\n",
              "          element.appendChild(docLink);\n",
              "        }\n",
              "      </script>\n",
              "    </div>\n",
              "  </div>\n",
              "  "
            ]
          },
          "metadata": {},
          "execution_count": 3
        }
      ]
    },
    {
      "cell_type": "code",
      "source": [
        "#getting the insight of the given dataset\n",
        "df.info()"
      ],
      "metadata": {
        "colab": {
          "base_uri": "https://localhost:8080/"
        },
        "id": "_o-pk2Uy5LL6",
        "outputId": "5dddde94-0133-4a3b-dbdf-18d5851656bb"
      },
      "execution_count": 4,
      "outputs": [
        {
          "output_type": "stream",
          "name": "stdout",
          "text": [
            "<class 'pandas.core.frame.DataFrame'>\n",
            "RangeIndex: 414 entries, 0 to 413\n",
            "Data columns (total 9 columns):\n",
            " #   Column                                    Non-Null Count  Dtype  \n",
            "---  ------                                    --------------  -----  \n",
            " 0   Transaction date                          414 non-null    float64\n",
            " 1   House Age                                 414 non-null    float64\n",
            " 2   Distance from nearest Metro station (km)  414 non-null    float64\n",
            " 3   Number of convenience stores              414 non-null    int64  \n",
            " 4   latitude                                  414 non-null    float64\n",
            " 5   longitude                                 414 non-null    float64\n",
            " 6   Number of bedrooms                        414 non-null    int64  \n",
            " 7   House size (sqft)                         414 non-null    int64  \n",
            " 8   House price of unit area                  414 non-null    float64\n",
            "dtypes: float64(6), int64(3)\n",
            "memory usage: 29.2 KB\n"
          ]
        }
      ]
    },
    {
      "cell_type": "code",
      "source": [
        "#So there is no Null values in the dataset\n",
        "df.describe()"
      ],
      "metadata": {
        "colab": {
          "base_uri": "https://localhost:8080/",
          "height": 379
        },
        "id": "VE_UsR6B7L4-",
        "outputId": "d7837d40-2b50-4b0a-8d3c-e71223ea07a0"
      },
      "execution_count": 5,
      "outputs": [
        {
          "output_type": "execute_result",
          "data": {
            "text/plain": [
              "       Transaction date   House Age  Distance from nearest Metro station (km)  \\\n",
              "count        414.000000  414.000000                                414.000000   \n",
              "mean        2013.148953   17.712560                               1083.885689   \n",
              "std            0.281995   11.392485                               1262.109595   \n",
              "min         2012.666667    0.000000                                 23.382840   \n",
              "25%         2012.916667    9.025000                                289.324800   \n",
              "50%         2013.166667   16.100000                                492.231300   \n",
              "75%         2013.416667   28.150000                               1454.279000   \n",
              "max         2013.583333   43.800000                               6488.021000   \n",
              "\n",
              "       Number of convenience stores    latitude   longitude  \\\n",
              "count                    414.000000  414.000000  414.000000   \n",
              "mean                       4.094203   24.969030  121.533361   \n",
              "std                        2.945562    0.012410    0.015347   \n",
              "min                        0.000000   24.932070  121.473530   \n",
              "25%                        1.000000   24.963000  121.528085   \n",
              "50%                        4.000000   24.971100  121.538630   \n",
              "75%                        6.000000   24.977455  121.543305   \n",
              "max                       10.000000   25.014590  121.566270   \n",
              "\n",
              "       Number of bedrooms  House size (sqft)  House price of unit area  \n",
              "count          414.000000         414.000000                414.000000  \n",
              "mean             1.987923         931.475845                 37.980193  \n",
              "std              0.818875         348.910269                 13.606488  \n",
              "min              1.000000         402.000000                  7.600000  \n",
              "25%              1.000000         548.000000                 27.700000  \n",
              "50%              2.000000         975.000000                 38.450000  \n",
              "75%              3.000000        1234.750000                 46.600000  \n",
              "max              3.000000        1500.000000                117.500000  "
            ],
            "text/html": [
              "\n",
              "  <div id=\"df-5e316c56-85d1-4f1f-abdc-b1d1c30453bd\">\n",
              "    <div class=\"colab-df-container\">\n",
              "      <div>\n",
              "<style scoped>\n",
              "    .dataframe tbody tr th:only-of-type {\n",
              "        vertical-align: middle;\n",
              "    }\n",
              "\n",
              "    .dataframe tbody tr th {\n",
              "        vertical-align: top;\n",
              "    }\n",
              "\n",
              "    .dataframe thead th {\n",
              "        text-align: right;\n",
              "    }\n",
              "</style>\n",
              "<table border=\"1\" class=\"dataframe\">\n",
              "  <thead>\n",
              "    <tr style=\"text-align: right;\">\n",
              "      <th></th>\n",
              "      <th>Transaction date</th>\n",
              "      <th>House Age</th>\n",
              "      <th>Distance from nearest Metro station (km)</th>\n",
              "      <th>Number of convenience stores</th>\n",
              "      <th>latitude</th>\n",
              "      <th>longitude</th>\n",
              "      <th>Number of bedrooms</th>\n",
              "      <th>House size (sqft)</th>\n",
              "      <th>House price of unit area</th>\n",
              "    </tr>\n",
              "  </thead>\n",
              "  <tbody>\n",
              "    <tr>\n",
              "      <th>count</th>\n",
              "      <td>414.000000</td>\n",
              "      <td>414.000000</td>\n",
              "      <td>414.000000</td>\n",
              "      <td>414.000000</td>\n",
              "      <td>414.000000</td>\n",
              "      <td>414.000000</td>\n",
              "      <td>414.000000</td>\n",
              "      <td>414.000000</td>\n",
              "      <td>414.000000</td>\n",
              "    </tr>\n",
              "    <tr>\n",
              "      <th>mean</th>\n",
              "      <td>2013.148953</td>\n",
              "      <td>17.712560</td>\n",
              "      <td>1083.885689</td>\n",
              "      <td>4.094203</td>\n",
              "      <td>24.969030</td>\n",
              "      <td>121.533361</td>\n",
              "      <td>1.987923</td>\n",
              "      <td>931.475845</td>\n",
              "      <td>37.980193</td>\n",
              "    </tr>\n",
              "    <tr>\n",
              "      <th>std</th>\n",
              "      <td>0.281995</td>\n",
              "      <td>11.392485</td>\n",
              "      <td>1262.109595</td>\n",
              "      <td>2.945562</td>\n",
              "      <td>0.012410</td>\n",
              "      <td>0.015347</td>\n",
              "      <td>0.818875</td>\n",
              "      <td>348.910269</td>\n",
              "      <td>13.606488</td>\n",
              "    </tr>\n",
              "    <tr>\n",
              "      <th>min</th>\n",
              "      <td>2012.666667</td>\n",
              "      <td>0.000000</td>\n",
              "      <td>23.382840</td>\n",
              "      <td>0.000000</td>\n",
              "      <td>24.932070</td>\n",
              "      <td>121.473530</td>\n",
              "      <td>1.000000</td>\n",
              "      <td>402.000000</td>\n",
              "      <td>7.600000</td>\n",
              "    </tr>\n",
              "    <tr>\n",
              "      <th>25%</th>\n",
              "      <td>2012.916667</td>\n",
              "      <td>9.025000</td>\n",
              "      <td>289.324800</td>\n",
              "      <td>1.000000</td>\n",
              "      <td>24.963000</td>\n",
              "      <td>121.528085</td>\n",
              "      <td>1.000000</td>\n",
              "      <td>548.000000</td>\n",
              "      <td>27.700000</td>\n",
              "    </tr>\n",
              "    <tr>\n",
              "      <th>50%</th>\n",
              "      <td>2013.166667</td>\n",
              "      <td>16.100000</td>\n",
              "      <td>492.231300</td>\n",
              "      <td>4.000000</td>\n",
              "      <td>24.971100</td>\n",
              "      <td>121.538630</td>\n",
              "      <td>2.000000</td>\n",
              "      <td>975.000000</td>\n",
              "      <td>38.450000</td>\n",
              "    </tr>\n",
              "    <tr>\n",
              "      <th>75%</th>\n",
              "      <td>2013.416667</td>\n",
              "      <td>28.150000</td>\n",
              "      <td>1454.279000</td>\n",
              "      <td>6.000000</td>\n",
              "      <td>24.977455</td>\n",
              "      <td>121.543305</td>\n",
              "      <td>3.000000</td>\n",
              "      <td>1234.750000</td>\n",
              "      <td>46.600000</td>\n",
              "    </tr>\n",
              "    <tr>\n",
              "      <th>max</th>\n",
              "      <td>2013.583333</td>\n",
              "      <td>43.800000</td>\n",
              "      <td>6488.021000</td>\n",
              "      <td>10.000000</td>\n",
              "      <td>25.014590</td>\n",
              "      <td>121.566270</td>\n",
              "      <td>3.000000</td>\n",
              "      <td>1500.000000</td>\n",
              "      <td>117.500000</td>\n",
              "    </tr>\n",
              "  </tbody>\n",
              "</table>\n",
              "</div>\n",
              "      <button class=\"colab-df-convert\" onclick=\"convertToInteractive('df-5e316c56-85d1-4f1f-abdc-b1d1c30453bd')\"\n",
              "              title=\"Convert this dataframe to an interactive table.\"\n",
              "              style=\"display:none;\">\n",
              "        \n",
              "  <svg xmlns=\"http://www.w3.org/2000/svg\" height=\"24px\"viewBox=\"0 0 24 24\"\n",
              "       width=\"24px\">\n",
              "    <path d=\"M0 0h24v24H0V0z\" fill=\"none\"/>\n",
              "    <path d=\"M18.56 5.44l.94 2.06.94-2.06 2.06-.94-2.06-.94-.94-2.06-.94 2.06-2.06.94zm-11 1L8.5 8.5l.94-2.06 2.06-.94-2.06-.94L8.5 2.5l-.94 2.06-2.06.94zm10 10l.94 2.06.94-2.06 2.06-.94-2.06-.94-.94-2.06-.94 2.06-2.06.94z\"/><path d=\"M17.41 7.96l-1.37-1.37c-.4-.4-.92-.59-1.43-.59-.52 0-1.04.2-1.43.59L10.3 9.45l-7.72 7.72c-.78.78-.78 2.05 0 2.83L4 21.41c.39.39.9.59 1.41.59.51 0 1.02-.2 1.41-.59l7.78-7.78 2.81-2.81c.8-.78.8-2.07 0-2.86zM5.41 20L4 18.59l7.72-7.72 1.47 1.35L5.41 20z\"/>\n",
              "  </svg>\n",
              "      </button>\n",
              "      \n",
              "  <style>\n",
              "    .colab-df-container {\n",
              "      display:flex;\n",
              "      flex-wrap:wrap;\n",
              "      gap: 12px;\n",
              "    }\n",
              "\n",
              "    .colab-df-convert {\n",
              "      background-color: #E8F0FE;\n",
              "      border: none;\n",
              "      border-radius: 50%;\n",
              "      cursor: pointer;\n",
              "      display: none;\n",
              "      fill: #1967D2;\n",
              "      height: 32px;\n",
              "      padding: 0 0 0 0;\n",
              "      width: 32px;\n",
              "    }\n",
              "\n",
              "    .colab-df-convert:hover {\n",
              "      background-color: #E2EBFA;\n",
              "      box-shadow: 0px 1px 2px rgba(60, 64, 67, 0.3), 0px 1px 3px 1px rgba(60, 64, 67, 0.15);\n",
              "      fill: #174EA6;\n",
              "    }\n",
              "\n",
              "    [theme=dark] .colab-df-convert {\n",
              "      background-color: #3B4455;\n",
              "      fill: #D2E3FC;\n",
              "    }\n",
              "\n",
              "    [theme=dark] .colab-df-convert:hover {\n",
              "      background-color: #434B5C;\n",
              "      box-shadow: 0px 1px 3px 1px rgba(0, 0, 0, 0.15);\n",
              "      filter: drop-shadow(0px 1px 2px rgba(0, 0, 0, 0.3));\n",
              "      fill: #FFFFFF;\n",
              "    }\n",
              "  </style>\n",
              "\n",
              "      <script>\n",
              "        const buttonEl =\n",
              "          document.querySelector('#df-5e316c56-85d1-4f1f-abdc-b1d1c30453bd button.colab-df-convert');\n",
              "        buttonEl.style.display =\n",
              "          google.colab.kernel.accessAllowed ? 'block' : 'none';\n",
              "\n",
              "        async function convertToInteractive(key) {\n",
              "          const element = document.querySelector('#df-5e316c56-85d1-4f1f-abdc-b1d1c30453bd');\n",
              "          const dataTable =\n",
              "            await google.colab.kernel.invokeFunction('convertToInteractive',\n",
              "                                                     [key], {});\n",
              "          if (!dataTable) return;\n",
              "\n",
              "          const docLinkHtml = 'Like what you see? Visit the ' +\n",
              "            '<a target=\"_blank\" href=https://colab.research.google.com/notebooks/data_table.ipynb>data table notebook</a>'\n",
              "            + ' to learn more about interactive tables.';\n",
              "          element.innerHTML = '';\n",
              "          dataTable['output_type'] = 'display_data';\n",
              "          await google.colab.output.renderOutput(dataTable, element);\n",
              "          const docLink = document.createElement('div');\n",
              "          docLink.innerHTML = docLinkHtml;\n",
              "          element.appendChild(docLink);\n",
              "        }\n",
              "      </script>\n",
              "    </div>\n",
              "  </div>\n",
              "  "
            ]
          },
          "metadata": {},
          "execution_count": 5
        }
      ]
    },
    {
      "cell_type": "code",
      "source": [
        "df.hist(figsize=(8,16),bins=50)"
      ],
      "metadata": {
        "colab": {
          "base_uri": "https://localhost:8080/",
          "height": 1000
        },
        "id": "twRdjWcP7pGG",
        "outputId": "e05e92ca-f730-4000-da01-d97a73a4f9cc"
      },
      "execution_count": 6,
      "outputs": [
        {
          "output_type": "execute_result",
          "data": {
            "text/plain": [
              "array([[<matplotlib.axes._subplots.AxesSubplot object at 0x7f45f2c964f0>,\n",
              "        <matplotlib.axes._subplots.AxesSubplot object at 0x7f45f2c59850>,\n",
              "        <matplotlib.axes._subplots.AxesSubplot object at 0x7f45f2c84c70>],\n",
              "       [<matplotlib.axes._subplots.AxesSubplot object at 0x7f45f2c2b100>,\n",
              "        <matplotlib.axes._subplots.AxesSubplot object at 0x7f45f2be1490>,\n",
              "        <matplotlib.axes._subplots.AxesSubplot object at 0x7f45f2c0d7c0>],\n",
              "       [<matplotlib.axes._subplots.AxesSubplot object at 0x7f45f2c0d8b0>,\n",
              "        <matplotlib.axes._subplots.AxesSubplot object at 0x7f45f2bbbd30>,\n",
              "        <matplotlib.axes._subplots.AxesSubplot object at 0x7f45f2b224f0>]],\n",
              "      dtype=object)"
            ]
          },
          "metadata": {},
          "execution_count": 6
        },
        {
          "output_type": "display_data",
          "data": {
            "text/plain": [
              "<Figure size 576x1152 with 9 Axes>"
            ],
            "image/png": "[encoded data removed]"
          },
          "metadata": {
            "needs_background": "light"
          }
        }
      ]
    },
    {
      "cell_type": "code",
      "source": [
        "#setting up a correlation plot to view the relation of each features on other feature \n",
        "import seaborn as sns\n",
        "sns.heatmap(df.corr(),vmax=1,vmin=0,annot=True)"
      ],
      "metadata": {
        "colab": {
          "base_uri": "https://localhost:8080/",
          "height": 483
        },
        "id": "HNriy5Ph5PNK",
        "outputId": "037902bd-efd5-4b83-b51b-453db7b354df"
      },
      "execution_count": 7,
      "outputs": [
        {
          "output_type": "execute_result",
          "data": {
            "text/plain": [
              "<matplotlib.axes._subplots.AxesSubplot at 0x7f45ea9f7fd0>"
            ]
          },
          "metadata": {},
          "execution_count": 7
        },
        {
          "output_type": "display_data",
          "data": {
            "text/plain": [
              "<Figure size 432x288 with 2 Axes>"
            ],
            "image/png": "[encoded data removed]"
          },
          "metadata": {
            "needs_background": "light"
          }
        }
      ]
    },
    {
      "cell_type": "code",
      "source": [
        "#seperating the dataset in feature vector and target vector\n",
        "x=df.iloc[:,:-1]\n",
        "y=df.iloc[:,-1]"
      ],
      "metadata": {
        "id": "ZYqj_PEf4uHT"
      },
      "execution_count": 8,
      "outputs": []
    },
    {
      "cell_type": "code",
      "source": [
        "#dividing the whole dataset into two parts i.e, a training set and testing set \n",
        "from sklearn.model_selection import train_test_split\n",
        "x_train,x_test,y_train,y_test=train_test_split(x,y,random_state=10)"
      ],
      "metadata": {
        "id": "GImYmrOJ6st4"
      },
      "execution_count": 9,
      "outputs": []
    },
    {
      "cell_type": "code",
      "source": [
        "#applying Random forest model on the dataset\n",
        "from sklearn.ensemble import RandomForestRegressor\n",
        "rf=RandomForestRegressor()\n",
        "rf.fit(x_train,y_train)"
      ],
      "metadata": {
        "colab": {
          "base_uri": "https://localhost:8080/"
        },
        "id": "XOEWvUGS6Fty",
        "outputId": "81d74c53-aefd-4a46-bb95-601e04ceb942"
      },
      "execution_count": 10,
      "outputs": [
        {
          "output_type": "execute_result",
          "data": {
            "text/plain": [
              "RandomForestRegressor()"
            ]
          },
          "metadata": {},
          "execution_count": 10
        }
      ]
    },
    {
      "cell_type": "code",
      "source": [
        "#Checking the R2 score on the previous model\n",
        "from sklearn.metrics import r2_score\n",
        "r2_score(rf.predict(x_test),y_test)"
      ],
      "metadata": {
        "colab": {
          "base_uri": "https://localhost:8080/"
        },
        "id": "ONAauh0O7FMx",
        "outputId": "7fbec12a-6866-459f-d3dc-8ee3fc2d62a9"
      },
      "execution_count": 11,
      "outputs": [
        {
          "output_type": "execute_result",
          "data": {
            "text/plain": [
              "0.5397847811738693"
            ]
          },
          "metadata": {},
          "execution_count": 11
        }
      ]
    },
    {
      "cell_type": "code",
      "source": [
        "#Using Standard Scaler to bring the dataset in a certain scale\n",
        "from sklearn.preprocessing import StandardScaler\n",
        "sc=StandardScaler()\n",
        "x_train=pd.DataFrame(sc.fit_transform(x_train),columns=x_train.columns)\n",
        "x_test=pd.DataFrame(sc.transform(x_test),columns=x_test.columns)"
      ],
      "metadata": {
        "id": "Nn2o88L3En0q"
      },
      "execution_count": 12,
      "outputs": []
    },
    {
      "cell_type": "code",
      "source": [
        "#importing the important library for applying Neural Network structure\n",
        "from tensorflow.keras import Sequential\n",
        "from tensorflow.keras.layers import *\n",
        "from tensorflow.keras.layers import *\n",
        "from tensorflow.keras.optimizers import Adam"
      ],
      "metadata": {
        "id": "uCinsJl9Fj8p"
      },
      "execution_count": 13,
      "outputs": []
    },
    {
      "cell_type": "code",
      "source": [
        "#Setting up the proper model with Layers and dropout layers\n",
        "model = Sequential([\n",
        "    Dense(160, kernel_initializer='normal', activation='relu'),\n",
        "    Dropout(0.2),\n",
        "    Dense(480, kernel_initializer='normal', activation='relu'),\n",
        "    Dropout(0.2),\n",
        "    Dense(256, kernel_initializer='normal', activation='relu'),\n",
        "    Dense(1, kernel_initializer='normal', activation='silu')\n",
        "  ])"
      ],
      "metadata": {
        "id": "b_kPmd-6Fn-A"
      },
      "execution_count": 14,
      "outputs": []
    },
    {
      "cell_type": "code",
      "source": [
        "#using mean squred error to evaluate the epochs\n",
        "from tensorflow.keras.losses import MeanSquaredError\n",
        "model.compile(\n",
        "    loss=MeanSquaredError(), \n",
        "    optimizer=Adam(learning_rate=0.001), \n",
        "    metrics=[MeanSquaredError()]\n",
        ")"
      ],
      "metadata": {
        "id": "iZbH6jT2SGzp"
      },
      "execution_count": 15,
      "outputs": []
    },
    {
      "cell_type": "code",
      "source": [
        "#fitting the train set in the neural network model\n",
        "pr=model.fit(\n",
        "    x_train.values, \n",
        "    y_train.values, \n",
        "    epochs=100, \n",
        "    batch_size=10,\n",
        "    validation_split=0.1\n",
        ")"
      ],
      "metadata": {
        "colab": {
          "base_uri": "https://localhost:8080/"
        },
        "id": "5XpBA-fZSk3J",
        "outputId": "bdbc752a-dc9f-4284-c3a7-bdcd62b5fe25"
      },
      "execution_count": 16,
      "outputs": [
        {
          "output_type": "stream",
          "name": "stdout",
          "text": [
            "Epoch 1/100\n",
            "28/28 [==============================] - 1s 11ms/step - loss: 1211.0983 - mean_squared_error: 1208.3282 - val_loss: 197.0495 - val_mean_squared_error: 159.3677\n",
            "Epoch 2/100\n",
            "28/28 [==============================] - 0s 5ms/step - loss: 162.4011 - mean_squared_error: 161.9308 - val_loss: 60.6432 - val_mean_squared_error: 47.2353\n",
            "Epoch 3/100\n",
            "28/28 [==============================] - 0s 6ms/step - loss: 94.1335 - mean_squared_error: 93.9656 - val_loss: 51.0409 - val_mean_squared_error: 39.6418\n",
            "Epoch 4/100\n",
            "28/28 [==============================] - 0s 5ms/step - loss: 85.2181 - mean_squared_error: 85.1063 - val_loss: 58.7507 - val_mean_squared_error: 46.2314\n",
            "Epoch 5/100\n",
            "28/28 [==============================] - 0s 7ms/step - loss: 75.2412 - mean_squared_error: 75.1276 - val_loss: 47.9574 - val_mean_squared_error: 37.7425\n",
            "Epoch 6/100\n",
            "28/28 [==============================] - 0s 5ms/step - loss: 74.7685 - mean_squared_error: 74.7246 - val_loss: 54.6786 - val_mean_squared_error: 43.2306\n",
            "Epoch 7/100\n",
            "28/28 [==============================] - 0s 6ms/step - loss: 83.3961 - mean_squared_error: 83.9000 - val_loss: 69.8999 - val_mean_squared_error: 58.4948\n",
            "Epoch 8/100\n",
            "28/28 [==============================] - 0s 5ms/step - loss: 76.1463 - mean_squared_error: 76.0856 - val_loss: 45.3211 - val_mean_squared_error: 35.6595\n",
            "Epoch 9/100\n",
            "28/28 [==============================] - 0s 4ms/step - loss: 70.4455 - mean_squared_error: 70.3831 - val_loss: 45.7479 - val_mean_squared_error: 35.7331\n",
            "Epoch 10/100\n",
            "28/28 [==============================] - 0s 6ms/step - loss: 71.0471 - mean_squared_error: 70.8932 - val_loss: 49.4404 - val_mean_squared_error: 38.8495\n",
            "Epoch 11/100\n",
            "28/28 [==============================] - 0s 11ms/step - loss: 71.0870 - mean_squared_error: 71.0243 - val_loss: 49.2569 - val_mean_squared_error: 38.4614\n",
            "Epoch 12/100\n",
            "28/28 [==============================] - 0s 8ms/step - loss: 65.6990 - mean_squared_error: 65.5397 - val_loss: 44.1149 - val_mean_squared_error: 34.2042\n",
            "Epoch 13/100\n",
            "28/28 [==============================] - 0s 11ms/step - loss: 66.8101 - mean_squared_error: 67.0488 - val_loss: 42.5809 - val_mean_squared_error: 33.3471\n",
            "Epoch 14/100\n",
            "28/28 [==============================] - 0s 8ms/step - loss: 69.2047 - mean_squared_error: 69.5229 - val_loss: 44.3768 - val_mean_squared_error: 34.7139\n",
            "Epoch 15/100\n",
            "28/28 [==============================] - 0s 9ms/step - loss: 69.3638 - mean_squared_error: 69.3375 - val_loss: 43.6043 - val_mean_squared_error: 33.8998\n",
            "Epoch 16/100\n",
            "28/28 [==============================] - 0s 10ms/step - loss: 75.2057 - mean_squared_error: 75.1345 - val_loss: 51.7901 - val_mean_squared_error: 42.0852\n",
            "Epoch 17/100\n",
            "28/28 [==============================] - 0s 6ms/step - loss: 65.2546 - mean_squared_error: 65.1786 - val_loss: 53.5369 - val_mean_squared_error: 46.6123\n",
            "Epoch 18/100\n",
            "28/28 [==============================] - 0s 7ms/step - loss: 65.7763 - mean_squared_error: 65.6452 - val_loss: 41.6586 - val_mean_squared_error: 32.6563\n",
            "Epoch 19/100\n",
            "28/28 [==============================] - 0s 13ms/step - loss: 62.4600 - mean_squared_error: 62.2804 - val_loss: 44.0337 - val_mean_squared_error: 34.1669\n",
            "Epoch 20/100\n",
            "28/28 [==============================] - 0s 7ms/step - loss: 60.4282 - mean_squared_error: 60.3873 - val_loss: 57.3556 - val_mean_squared_error: 50.1270\n",
            "Epoch 21/100\n",
            "28/28 [==============================] - 0s 7ms/step - loss: 65.9679 - mean_squared_error: 66.4445 - val_loss: 43.7125 - val_mean_squared_error: 35.0240\n",
            "Epoch 22/100\n",
            "28/28 [==============================] - 0s 9ms/step - loss: 64.9373 - mean_squared_error: 64.8354 - val_loss: 41.9807 - val_mean_squared_error: 32.6438\n",
            "Epoch 23/100\n",
            "28/28 [==============================] - 0s 9ms/step - loss: 73.4940 - mean_squared_error: 73.4850 - val_loss: 52.8447 - val_mean_squared_error: 45.0966\n",
            "Epoch 24/100\n",
            "28/28 [==============================] - 0s 7ms/step - loss: 68.2814 - mean_squared_error: 68.1533 - val_loss: 43.4017 - val_mean_squared_error: 33.8304\n",
            "Epoch 25/100\n",
            "28/28 [==============================] - 0s 9ms/step - loss: 65.1196 - mean_squared_error: 64.9720 - val_loss: 45.1947 - val_mean_squared_error: 35.9651\n",
            "Epoch 26/100\n",
            "28/28 [==============================] - 0s 8ms/step - loss: 62.1063 - mean_squared_error: 62.0132 - val_loss: 41.3998 - val_mean_squared_error: 32.1923\n",
            "Epoch 27/100\n",
            "28/28 [==============================] - 0s 11ms/step - loss: 59.1265 - mean_squared_error: 59.1076 - val_loss: 42.0511 - val_mean_squared_error: 32.6731\n",
            "Epoch 28/100\n",
            "28/28 [==============================] - 0s 10ms/step - loss: 63.0498 - mean_squared_error: 63.3437 - val_loss: 44.8223 - val_mean_squared_error: 35.0220\n",
            "Epoch 29/100\n",
            "28/28 [==============================] - 0s 9ms/step - loss: 60.5002 - mean_squared_error: 60.5416 - val_loss: 48.7318 - val_mean_squared_error: 37.7913\n",
            "Epoch 30/100\n",
            "28/28 [==============================] - 0s 9ms/step - loss: 65.1968 - mean_squared_error: 65.3836 - val_loss: 43.9713 - val_mean_squared_error: 34.0829\n",
            "Epoch 31/100\n",
            "28/28 [==============================] - 0s 9ms/step - loss: 59.9930 - mean_squared_error: 59.8586 - val_loss: 41.0375 - val_mean_squared_error: 32.1236\n",
            "Epoch 32/100\n",
            "28/28 [==============================] - 0s 13ms/step - loss: 56.6928 - mean_squared_error: 56.6174 - val_loss: 42.2745 - val_mean_squared_error: 32.7651\n",
            "Epoch 33/100\n",
            "28/28 [==============================] - 0s 7ms/step - loss: 61.9945 - mean_squared_error: 62.1299 - val_loss: 40.3406 - val_mean_squared_error: 31.2676\n",
            "Epoch 34/100\n",
            "28/28 [==============================] - 0s 10ms/step - loss: 59.9622 - mean_squared_error: 59.8843 - val_loss: 41.6939 - val_mean_squared_error: 32.6907\n",
            "Epoch 35/100\n",
            "28/28 [==============================] - 0s 8ms/step - loss: 62.0016 - mean_squared_error: 61.8998 - val_loss: 56.2101 - val_mean_squared_error: 47.5270\n",
            "Epoch 36/100\n",
            "28/28 [==============================] - 0s 7ms/step - loss: 63.9074 - mean_squared_error: 63.8156 - val_loss: 43.1387 - val_mean_squared_error: 33.9044\n",
            "Epoch 37/100\n",
            "28/28 [==============================] - 0s 10ms/step - loss: 62.8808 - mean_squared_error: 62.8109 - val_loss: 43.1648 - val_mean_squared_error: 34.7002\n",
            "Epoch 38/100\n",
            "28/28 [==============================] - 0s 9ms/step - loss: 60.2293 - mean_squared_error: 61.8756 - val_loss: 42.4812 - val_mean_squared_error: 34.6819\n",
            "Epoch 39/100\n",
            "28/28 [==============================] - 0s 9ms/step - loss: 53.5612 - mean_squared_error: 53.5886 - val_loss: 46.1805 - val_mean_squared_error: 37.3103\n",
            "Epoch 40/100\n",
            "28/28 [==============================] - 0s 12ms/step - loss: 58.9388 - mean_squared_error: 58.8087 - val_loss: 47.1788 - val_mean_squared_error: 36.7018\n",
            "Epoch 41/100\n",
            "28/28 [==============================] - 0s 8ms/step - loss: 63.7713 - mean_squared_error: 63.8465 - val_loss: 47.3069 - val_mean_squared_error: 40.1427\n",
            "Epoch 42/100\n",
            "28/28 [==============================] - 0s 8ms/step - loss: 62.2224 - mean_squared_error: 62.1485 - val_loss: 41.2695 - val_mean_squared_error: 32.6046\n",
            "Epoch 43/100\n",
            "28/28 [==============================] - 0s 8ms/step - loss: 60.8227 - mean_squared_error: 60.6859 - val_loss: 44.5165 - val_mean_squared_error: 37.6456\n",
            "Epoch 44/100\n",
            "28/28 [==============================] - 0s 10ms/step - loss: 59.5639 - mean_squared_error: 59.8777 - val_loss: 50.1004 - val_mean_squared_error: 44.5604\n",
            "Epoch 45/100\n",
            "28/28 [==============================] - 0s 7ms/step - loss: 61.8137 - mean_squared_error: 61.7274 - val_loss: 42.2325 - val_mean_squared_error: 35.0650\n",
            "Epoch 46/100\n",
            "28/28 [==============================] - 0s 9ms/step - loss: 56.8032 - mean_squared_error: 56.6694 - val_loss: 38.8748 - val_mean_squared_error: 30.5690\n",
            "Epoch 47/100\n",
            "28/28 [==============================] - 0s 9ms/step - loss: 60.9644 - mean_squared_error: 60.9084 - val_loss: 48.4265 - val_mean_squared_error: 43.7235\n",
            "Epoch 48/100\n",
            "28/28 [==============================] - 0s 8ms/step - loss: 66.4729 - mean_squared_error: 66.3949 - val_loss: 48.4485 - val_mean_squared_error: 37.8557\n",
            "Epoch 49/100\n",
            "28/28 [==============================] - 0s 9ms/step - loss: 56.5089 - mean_squared_error: 56.5311 - val_loss: 45.0607 - val_mean_squared_error: 34.9228\n",
            "Epoch 50/100\n",
            "28/28 [==============================] - 0s 9ms/step - loss: 52.1478 - mean_squared_error: 52.1524 - val_loss: 39.2916 - val_mean_squared_error: 31.2858\n",
            "Epoch 51/100\n",
            "28/28 [==============================] - 0s 9ms/step - loss: 61.0660 - mean_squared_error: 60.9109 - val_loss: 40.1066 - val_mean_squared_error: 31.2644\n",
            "Epoch 52/100\n",
            "28/28 [==============================] - 0s 9ms/step - loss: 54.4562 - mean_squared_error: 54.4144 - val_loss: 39.5205 - val_mean_squared_error: 30.9241\n",
            "Epoch 53/100\n",
            "28/28 [==============================] - 0s 9ms/step - loss: 59.8485 - mean_squared_error: 59.7175 - val_loss: 44.3633 - val_mean_squared_error: 38.2959\n",
            "Epoch 54/100\n",
            "28/28 [==============================] - 0s 10ms/step - loss: 56.3956 - mean_squared_error: 56.3161 - val_loss: 43.8757 - val_mean_squared_error: 38.0350\n",
            "Epoch 55/100\n",
            "28/28 [==============================] - 0s 9ms/step - loss: 55.4022 - mean_squared_error: 55.3718 - val_loss: 42.4033 - val_mean_squared_error: 35.6235\n",
            "Epoch 56/100\n",
            "28/28 [==============================] - 0s 9ms/step - loss: 58.3249 - mean_squared_error: 58.1820 - val_loss: 41.1265 - val_mean_squared_error: 35.2230\n",
            "Epoch 57/100\n",
            "28/28 [==============================] - 0s 10ms/step - loss: 55.6378 - mean_squared_error: 55.7814 - val_loss: 52.6171 - val_mean_squared_error: 41.8769\n",
            "Epoch 58/100\n",
            "28/28 [==============================] - 0s 11ms/step - loss: 63.2781 - mean_squared_error: 63.1475 - val_loss: 50.6521 - val_mean_squared_error: 45.0032\n",
            "Epoch 59/100\n",
            "28/28 [==============================] - 0s 7ms/step - loss: 64.8686 - mean_squared_error: 64.7648 - val_loss: 38.6047 - val_mean_squared_error: 30.6449\n",
            "Epoch 60/100\n",
            "28/28 [==============================] - 0s 7ms/step - loss: 50.7098 - mean_squared_error: 50.6401 - val_loss: 38.7345 - val_mean_squared_error: 30.8312\n",
            "Epoch 61/100\n",
            "28/28 [==============================] - 0s 10ms/step - loss: 54.3474 - mean_squared_error: 54.2379 - val_loss: 36.9732 - val_mean_squared_error: 29.4842\n",
            "Epoch 62/100\n",
            "28/28 [==============================] - 0s 10ms/step - loss: 52.9462 - mean_squared_error: 52.8950 - val_loss: 38.8047 - val_mean_squared_error: 30.7643\n",
            "Epoch 63/100\n",
            "28/28 [==============================] - 0s 7ms/step - loss: 64.6105 - mean_squared_error: 64.5700 - val_loss: 46.8158 - val_mean_squared_error: 40.1327\n",
            "Epoch 64/100\n",
            "28/28 [==============================] - 0s 8ms/step - loss: 55.0081 - mean_squared_error: 54.9197 - val_loss: 37.3956 - val_mean_squared_error: 29.7183\n",
            "Epoch 65/100\n",
            "28/28 [==============================] - 0s 9ms/step - loss: 51.3971 - mean_squared_error: 51.4040 - val_loss: 36.9738 - val_mean_squared_error: 29.0086\n",
            "Epoch 66/100\n",
            "28/28 [==============================] - 0s 11ms/step - loss: 61.0099 - mean_squared_error: 61.0028 - val_loss: 34.9610 - val_mean_squared_error: 27.9926\n",
            "Epoch 67/100\n",
            "28/28 [==============================] - 0s 10ms/step - loss: 55.5173 - mean_squared_error: 55.4833 - val_loss: 36.7270 - val_mean_squared_error: 29.1246\n",
            "Epoch 68/100\n",
            "28/28 [==============================] - 0s 9ms/step - loss: 55.3445 - mean_squared_error: 55.2531 - val_loss: 43.0098 - val_mean_squared_error: 37.0585\n",
            "Epoch 69/100\n",
            "28/28 [==============================] - 0s 11ms/step - loss: 58.2029 - mean_squared_error: 58.3121 - val_loss: 40.3613 - val_mean_squared_error: 34.4563\n",
            "Epoch 70/100\n",
            "28/28 [==============================] - 0s 8ms/step - loss: 64.1215 - mean_squared_error: 64.0516 - val_loss: 39.3623 - val_mean_squared_error: 30.6527\n",
            "Epoch 71/100\n",
            "28/28 [==============================] - 0s 9ms/step - loss: 60.4671 - mean_squared_error: 60.4578 - val_loss: 37.1279 - val_mean_squared_error: 29.7301\n",
            "Epoch 72/100\n",
            "28/28 [==============================] - 0s 13ms/step - loss: 57.0769 - mean_squared_error: 58.5938 - val_loss: 37.6516 - val_mean_squared_error: 29.3460\n",
            "Epoch 73/100\n",
            "28/28 [==============================] - 0s 11ms/step - loss: 53.6600 - mean_squared_error: 53.5687 - val_loss: 34.2063 - val_mean_squared_error: 26.8023\n",
            "Epoch 74/100\n",
            "28/28 [==============================] - 0s 9ms/step - loss: 48.2310 - mean_squared_error: 48.1039 - val_loss: 38.7199 - val_mean_squared_error: 33.0775\n",
            "Epoch 75/100\n",
            "28/28 [==============================] - 0s 7ms/step - loss: 56.4885 - mean_squared_error: 56.5821 - val_loss: 53.9416 - val_mean_squared_error: 43.9613\n",
            "Epoch 76/100\n",
            "28/28 [==============================] - 0s 8ms/step - loss: 56.9076 - mean_squared_error: 56.7911 - val_loss: 40.4524 - val_mean_squared_error: 31.4806\n",
            "Epoch 77/100\n",
            "28/28 [==============================] - 0s 9ms/step - loss: 56.1283 - mean_squared_error: 55.9976 - val_loss: 37.6015 - val_mean_squared_error: 31.2927\n",
            "Epoch 78/100\n",
            "28/28 [==============================] - 0s 7ms/step - loss: 50.8898 - mean_squared_error: 50.8736 - val_loss: 36.4347 - val_mean_squared_error: 29.9491\n",
            "Epoch 79/100\n",
            "28/28 [==============================] - 0s 7ms/step - loss: 50.7308 - mean_squared_error: 50.6241 - val_loss: 36.1907 - val_mean_squared_error: 29.7463\n",
            "Epoch 80/100\n",
            "28/28 [==============================] - 0s 13ms/step - loss: 48.4709 - mean_squared_error: 48.4206 - val_loss: 34.2962 - val_mean_squared_error: 27.0191\n",
            "Epoch 81/100\n",
            "28/28 [==============================] - 0s 13ms/step - loss: 55.0217 - mean_squared_error: 55.0091 - val_loss: 37.6910 - val_mean_squared_error: 30.4334\n",
            "Epoch 82/100\n",
            "28/28 [==============================] - 0s 9ms/step - loss: 45.8732 - mean_squared_error: 45.8428 - val_loss: 34.6863 - val_mean_squared_error: 27.3034\n",
            "Epoch 83/100\n",
            "28/28 [==============================] - 0s 13ms/step - loss: 54.5423 - mean_squared_error: 54.4477 - val_loss: 37.4035 - val_mean_squared_error: 29.1193\n",
            "Epoch 84/100\n",
            "28/28 [==============================] - 0s 8ms/step - loss: 51.3965 - mean_squared_error: 51.3181 - val_loss: 36.0144 - val_mean_squared_error: 27.9497\n",
            "Epoch 85/100\n",
            "28/28 [==============================] - 0s 5ms/step - loss: 54.3624 - mean_squared_error: 54.2471 - val_loss: 42.0024 - val_mean_squared_error: 34.2607\n",
            "Epoch 86/100\n",
            "28/28 [==============================] - 0s 6ms/step - loss: 53.2546 - mean_squared_error: 53.3085 - val_loss: 34.2351 - val_mean_squared_error: 27.7919\n",
            "Epoch 87/100\n",
            "28/28 [==============================] - 0s 6ms/step - loss: 55.0759 - mean_squared_error: 54.9585 - val_loss: 34.8223 - val_mean_squared_error: 27.4428\n",
            "Epoch 88/100\n",
            "28/28 [==============================] - 0s 6ms/step - loss: 56.1437 - mean_squared_error: 57.8329 - val_loss: 38.6395 - val_mean_squared_error: 30.2143\n",
            "Epoch 89/100\n",
            "28/28 [==============================] - 0s 5ms/step - loss: 50.1073 - mean_squared_error: 49.9572 - val_loss: 35.3994 - val_mean_squared_error: 28.9121\n",
            "Epoch 90/100\n",
            "28/28 [==============================] - 0s 6ms/step - loss: 53.5979 - mean_squared_error: 53.4608 - val_loss: 38.7609 - val_mean_squared_error: 32.6968\n",
            "Epoch 91/100\n",
            "28/28 [==============================] - 0s 6ms/step - loss: 50.5673 - mean_squared_error: 50.5535 - val_loss: 35.8307 - val_mean_squared_error: 27.7714\n",
            "Epoch 92/100\n",
            "28/28 [==============================] - 0s 6ms/step - loss: 50.6076 - mean_squared_error: 50.6180 - val_loss: 45.0441 - val_mean_squared_error: 41.0776\n",
            "Epoch 93/100\n",
            "28/28 [==============================] - 0s 6ms/step - loss: 51.3983 - mean_squared_error: 51.2811 - val_loss: 40.1257 - val_mean_squared_error: 34.3546\n",
            "Epoch 94/100\n",
            "28/28 [==============================] - 0s 6ms/step - loss: 52.4320 - mean_squared_error: 52.5896 - val_loss: 38.3708 - val_mean_squared_error: 30.1226\n",
            "Epoch 95/100\n",
            "28/28 [==============================] - 0s 6ms/step - loss: 53.3437 - mean_squared_error: 53.2081 - val_loss: 38.7707 - val_mean_squared_error: 33.2345\n",
            "Epoch 96/100\n",
            "28/28 [==============================] - 0s 4ms/step - loss: 49.7412 - mean_squared_error: 49.6237 - val_loss: 38.2756 - val_mean_squared_error: 31.6960\n",
            "Epoch 97/100\n",
            "28/28 [==============================] - 0s 4ms/step - loss: 50.5114 - mean_squared_error: 50.4015 - val_loss: 37.2974 - val_mean_squared_error: 29.8602\n",
            "Epoch 98/100\n",
            "28/28 [==============================] - 0s 4ms/step - loss: 48.7470 - mean_squared_error: 48.7155 - val_loss: 35.8431 - val_mean_squared_error: 27.7824\n",
            "Epoch 99/100\n",
            "28/28 [==============================] - 0s 5ms/step - loss: 46.0858 - mean_squared_error: 45.9868 - val_loss: 35.0466 - val_mean_squared_error: 28.2959\n",
            "Epoch 100/100\n",
            "28/28 [==============================] - 0s 3ms/step - loss: 43.8098 - mean_squared_error: 43.7928 - val_loss: 34.6055 - val_mean_squared_error: 26.8601\n"
          ]
        }
      ]
    },
    {
      "cell_type": "code",
      "source": [
        "#predicting the price per units of area from the features given in testing set\n",
        "y_pred=model.predict(x_test)\n",
        "for i in range (0,len(y_pred)):\n",
        "  y_pred[i]=math.floor(y_pred[i])"
      ],
      "metadata": {
        "colab": {
          "base_uri": "https://localhost:8080/"
        },
        "id": "os4A-7JBJYSy",
        "outputId": "dca33145-ecb3-45e9-f66c-5601e34c76b6"
      },
      "execution_count": 42,
      "outputs": [
        {
          "output_type": "stream",
          "name": "stdout",
          "text": [
            "4/4 [==============================] - 0s 3ms/step\n"
          ]
        }
      ]
    },
    {
      "cell_type": "code",
      "source": [
        "def plot_history(history, key):\n",
        "  plt.plot(history.history[key])\n",
        "  plt.plot(history.history['val_'+key])\n",
        "  plt.xlabel(\"Epochs\")\n",
        "  plt.ylabel(key)\n",
        "  plt.legend([key, 'val_'+key])\n",
        "  plt.show()"
      ],
      "metadata": {
        "id": "u2MWZxwdS-rJ"
      },
      "execution_count": 43,
      "outputs": []
    },
    {
      "cell_type": "code",
      "source": [
        "#plotting the the graph between epochs and mean squared error\n",
        "plot_history(pr, 'mean_squared_error')"
      ],
      "metadata": {
        "colab": {
          "base_uri": "https://localhost:8080/",
          "height": 279
        },
        "id": "rncda5iXTA1I",
        "outputId": "fdd425a2-3e66-43f4-ec1c-39c54baf2054"
      },
      "execution_count": 44,
      "outputs": [
        {
          "output_type": "display_data",
          "data": {
            "text/plain": [
              "<Figure size 432x288 with 1 Axes>"
            ],
            "image/png": "[encoded data removed]"
          },
          "metadata": {
            "needs_background": "light"
          }
        }
      ]
    },
    {
      "cell_type": "code",
      "source": [
        "r2_score(y_test,y_pred)"
      ],
      "metadata": {
        "colab": {
          "base_uri": "https://localhost:8080/"
        },
        "id": "dNTWGe7qTeuw",
        "outputId": "45da47b3-4e2d-4b25-8abc-be5067ab051d"
      },
      "execution_count": 45,
      "outputs": [
        {
          "output_type": "execute_result",
          "data": {
            "text/plain": [
              "0.6658989862476378"
            ]
          },
          "metadata": {},
          "execution_count": 45
        }
      ]
    }
  ]
}